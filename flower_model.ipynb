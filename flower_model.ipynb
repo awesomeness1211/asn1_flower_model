{
 "cells": [
  {
   "cell_type": "markdown",
   "id": "a9fe6267-6b3e-43f7-adfd-42874fcc10b1",
   "metadata": {},
   "source": [
    "# IT3103 - Assignment 1 - Advanced Topics in AI"
   ]
  },
  {
   "cell_type": "markdown",
   "id": "69de7622-adc1-4074-949e-83104de55d09",
   "metadata": {},
   "source": [
    "## 🌼 Flower Classifier 🌼"
   ]
  },
  {
   "cell_type": "markdown",
   "id": "c946d0e3-85a7-412c-a8c0-08c32c4cc452",
   "metadata": {},
   "source": [
    "### Team Members:\n",
    "- Tan Qian Peng (234504H)\n",
    "- Rethika\n",
    "- Harith"
   ]
  },
  {
   "cell_type": "markdown",
   "id": "fec0088b-f3b7-4056-bbf2-d90ca2749637",
   "metadata": {},
   "source": [
    "### Introduction"
   ]
  },
  {
   "cell_type": "markdown",
   "id": "4017ebeb-f5a8-4e68-85d8-dc75721f1d23",
   "metadata": {},
   "source": [
    "This is a model that classifies flowers by different kinds (i.e. daisy, dandelion, roses, sunflowers, and tulips). In this notebook, we will be presenting our own neural network and how we will program our machine to understand and classify flowers into their own respective types.\n",
    "\n",
    "The priority of our model would be to ensure that we have more than 70% accuracy, while avoiding as much overlapping as possible."
   ]
  },
  {
   "cell_type": "markdown",
   "id": "db134e25-db29-4eb9-a754-3d3c3cb26698",
   "metadata": {},
   "source": [
    "### Section 1: Data Preparation"
   ]
  },
  {
   "cell_type": "markdown",
   "id": "ebd5cb09-ce3f-4a25-a79d-0b2bb3c4377e",
   "metadata": {},
   "source": [
    "Before we start this assignment, we must prepare the necessary dataset for this, so we will install necessary modules first."
   ]
  },
  {
   "cell_type": "code",
   "execution_count": 19,
   "id": "13ceed7d-066c-47b9-a191-24dee1a81821",
   "metadata": {},
   "outputs": [],
   "source": [
    "import os\n",
    "import tensorflow as tf\n",
    "import keras\n",
    "import numpy as np\n",
    "import keras.layers as layers\n",
    "from sklearn.metrics import classification_report"
   ]
  },
  {
   "cell_type": "code",
   "execution_count": 21,
   "id": "f962b106-f7a8-4f2f-8f06-143d1c4d238d",
   "metadata": {},
   "outputs": [
    {
     "name": "stdout",
     "output_type": "stream",
     "text": [
      "Downloading data from http://download.tensorflow.org/example_images/flower_photos.tgz\n",
      "\u001b[1m228813984/228813984\u001b[0m \u001b[32m━━━━━━━━━━━━━━━━━━━━\u001b[0m\u001b[37m\u001b[0m \u001b[1m20s\u001b[0m 0us/step\n"
     ]
    }
   ],
   "source": [
    "dataset_URL = \"http://download.tensorflow.org/example_images/flower_photos.tgz\"\n",
    "path_to_zip = keras.utils.get_file('flower_photos.tgz', origin=dataset_URL, extract=True, cache_dir='.')\n",
    "dataset_dir = os.path.join(os.path.dirname(path_to_zip), \"flower_photos_extracted/flower_photos\")"
   ]
  },
  {
   "cell_type": "markdown",
   "id": "ea1bca3c-334b-4ed8-a71f-428116eee48e",
   "metadata": {},
   "source": []
  }
 ],
 "metadata": {
  "kernelspec": {
   "display_name": "Python [conda env:base] *",
   "language": "python",
   "name": "conda-base-py"
  },
  "language_info": {
   "codemirror_mode": {
    "name": "ipython",
    "version": 3
   },
   "file_extension": ".py",
   "mimetype": "text/x-python",
   "name": "python",
   "nbconvert_exporter": "python",
   "pygments_lexer": "ipython3",
   "version": "3.12.7"
  }
 },
 "nbformat": 4,
 "nbformat_minor": 5
}
